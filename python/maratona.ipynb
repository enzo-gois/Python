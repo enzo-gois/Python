{
 "cells": [
  {
   "cell_type": "code",
   "execution_count": 38,
   "metadata": {},
   "outputs": [
    {
     "name": "stdout",
     "output_type": "stream",
     "text": [
      "Telefone: 12345-76 \n",
      "O telefone possui 7 dígitos!\n",
      "Telefone corrigido sem formatação: 31234576\n",
      "Telefone corrigido com formatação: 3123-4576\n"
     ]
    }
   ],
   "source": [
    "s = ''\n",
    "n = input('Digite um numero de telefone:  ')\n",
    "sem_hifen = n.replace('-','')\n",
    "print(f'Telefone: {n} ')\n",
    "\n",
    "if len(sem_hifen) == 8:\n",
    "    print('O telefone possui 8 dígitos!')\n",
    "    print('O numero com formatação é igual a: ',end='')\n",
    "    print(sem_hifen[0:4] + '-' + sem_hifen[4:])\n",
    "elif len(sem_hifen) == 7:\n",
    "    print('O telefone possui 7 dígitos!')\n",
    "    print('Telefone corrigido sem formatação: ',end='')\n",
    "    print('3' + sem_hifen)\n",
    "    print('Telefone corrigido com formatação: ',end='')\n",
    "    print('3'+sem_hifen[0:3]+'-'+sem_hifen[3:])\n",
    "\n",
    "\n"
   ]
  },
  {
   "cell_type": "code",
   "execution_count": 39,
   "metadata": {},
   "outputs": [
    {
     "name": "stdout",
     "output_type": "stream",
     "text": [
      "cinquenta e cinco\n"
     ]
    }
   ],
   "source": [
    "vetor = ['zero', 'um', 'dois', 'tres', 'quatro', 'cinco', 'seis', 'sete', 'oito', 'nove', 'dez', 'onze', 'doze', 'treze', 'quatorze', 'quinze', 'dezesseis', 'dezessete', 'dezoito', 'dezenove']\n",
    "vetor2 = ['vinte', 'trinta', 'quarenta', 'cinquenta', 'sessenta', 'setenta', 'oitenta', 'noventa']\n",
    "n = int(input('Digite um numero entre 0 e 99: '))\n",
    "if n < 0 or n > 99:\n",
    "    print('NÚMERO INVÁLIDO! ')\n",
    "if n >= 0 and n <= 19:\n",
    "    print(vetor[n])\n",
    "if n > 20 and n <= 29:\n",
    "    print(vetor2[0], 'e', vetor[n-20])\n",
    "elif n == 20:\n",
    "    print(vetor2[0])\n",
    "if n > 30 and n <= 39:\n",
    "    print(vetor2[1], 'e', vetor[n-30])\n",
    "elif n == 30:\n",
    "    print(vetor2[1])\n",
    "if n > 40 and n <= 49:\n",
    "    print(vetor2[2], 'e', vetor[n-40])\n",
    "elif n == 40:\n",
    "    print(vetor2[2])\n",
    "if n > 50 and n <= 59:\n",
    "    print(vetor2[3], 'e', vetor[n-50])\n",
    "elif n == 50:\n",
    "    print(vetor2[3])\n",
    "if n > 60 and n <= 69:\n",
    "    print(vetor2[4], 'e',vetor[n-60] )\n",
    "elif n == 60:\n",
    "    print(vetor2[4])\n",
    "if n > 70 and n <= 79:\n",
    "    print(vetor2[5], 'e', vetor[n-70])\n",
    "elif n == 70:\n",
    "    print(vetor2[5])\n",
    "if n > 80 and n <=89:\n",
    "    print(vetor2[6], 'e', vetor[n-80])\n",
    "elif n == 80:\n",
    "    print(vetor2[6])\n",
    "if n > 90 and n <= 99:\n",
    "    print(vetor2[7], 'e', vetor[n-90])\n",
    "elif n == 90:\n",
    "    print(vetor2[7])"
   ]
  },
  {
   "cell_type": "code",
   "execution_count": 26,
   "metadata": {},
   "outputs": [
    {
     "name": "stdout",
     "output_type": "stream",
     "text": [
      "ENzo\n",
      "Nota: 1 \n",
      "Nota: 2 \n",
      "Nota: 3 \n",
      "Nota: 4 \n",
      "Nota: 5 \n",
      "Nota: 6 \n",
      "Nota: 7 \n",
      "RESULTADO FINAL\n",
      "\n",
      "Atleta: ENzo \n",
      "Maior nota: 7\n",
      "Menor nota: 1\n",
      "Média: 4.00 \n"
     ]
    }
   ],
   "source": [
    "notas = []\n",
    "nome = input('Digite o nome do atleta:  ')\n",
    "for i in range(7):\n",
    "    notas.append(int(input(f'Digite a nota do jurado {i+1} ')))\n",
    "print(nome)\n",
    "for i in range(7):\n",
    "    print(f'Nota: {notas[i]} ')\n",
    "\n",
    "print('\\nRESULTADO FINAL')\n",
    "print(f'Atleta: {nome} ')\n",
    "print(f'Maior nota: {max(notas)}')\n",
    "print(f'Menor nota: {min(notas)}')\n",
    "notas.sort()\n",
    "del (notas[0])\n",
    "del (notas[len(notas)-1])\n",
    "print(f'Média: {sum(notas)/5:.2f} ')\n",
    "\n",
    "\n",
    "\n",
    "\n",
    "\n"
   ]
  },
  {
   "cell_type": "code",
   "execution_count": 11,
   "metadata": {},
   "outputs": [
    {
     "name": "stdout",
     "output_type": "stream",
     "text": [
      "Quantidade de mouses: 4 \n",
      "SITUAÇÃO:                       Quantidade           Percentual\n",
      "1 - necessita da esfera            1                      25.00% \n",
      "2 - necessita de limpeza           1                      25.00% \n",
      "3 - necessita troca de cabo ou conector   1             25.00% \n",
      "4 - quebrado ou inutilizado        1                     25.00% \n"
     ]
    }
   ],
   "source": [
    "p1 = p2 = p3 = p4 = [] \n",
    "count = count1 = count2 = count3 = count4 = 0\n",
    "while True:\n",
    "    m = (input('Digite o numero de identificação do mouse: 1 para: necessita da esfera\\n 2 para necessita de limpeza\\n3 para necessita troca de cabo\\n 4 para quebrado'))\n",
    "    if int(m) == 1:\n",
    "        p1.append(m)\n",
    "        count1+=1\n",
    "        count+=1\n",
    "    if int(m) == 2:\n",
    "        p2.append(m)\n",
    "        count2+=1\n",
    "        count+=1\n",
    "    if int(m) == 3:\n",
    "        p3.append(m)\n",
    "        count3+=1\n",
    "        count+=1\n",
    "    if int(m) == 4:\n",
    "        p4.append(m)\n",
    "        count4+=1\n",
    "        count+=1\n",
    "    if int(m) == 0: break\n",
    "print(f'Quantidade de mouses: {count} ')\n",
    "print('SITUAÇÃO:                       Quantidade           Percentual')\n",
    "print(f'1 - necessita da esfera            {count1}                      {(count1/count)*100:.2f}% ')\n",
    "print(f'2 - necessita de limpeza           {count2}                      {(count2/count)*100:.2f}% ')\n",
    "print(f'3 - necessita troca de cabo ou conector   {count3}             {(count3/count)*100:.2f}% ')\n",
    "print(f'4 - quebrado ou inutilizado        {count4}                     {(count4/count)*100:.2f}% ')\n",
    "    \n"
   ]
  },
  {
   "cell_type": "code",
   "execution_count": 26,
   "metadata": {},
   "outputs": [
    {
     "name": "stdout",
     "output_type": "stream",
     "text": [
      "Veículo 1 \n",
      "Nome: fusca \n",
      "Km por litro: 7.0 \n",
      "Veículo 2 \n",
      "Nome: gol \n",
      "Km por litro: 10.0 \n",
      "Veículo 3 \n",
      "Nome: uno \n",
      "Km por litro: 12.5 \n",
      "Veículo 4 \n",
      "Nome: vectra \n",
      "Km por litro: 9.0 \n",
      "Veículo 5 \n",
      "Nome: peugeout \n",
      "Km por litro: 14.5 \n",
      "RELATÓRIO FINAL\n",
      " 1  - fusca     - 7.0 - 142.86 litros - R$ 321.43 \n",
      " 2  - gol     - 10.0 - 100.00 litros - R$ 225.00 \n",
      " 3  - uno     - 12.5 - 80.00 litros - R$ 180.00 \n",
      " 4  - vectra     - 9.0 - 111.11 litros - R$ 250.00 \n",
      " 5  - peugeout     - 14.5 - 68.97 litros - R$ 155.17 \n",
      "O menor consumo é o do peugeout \n"
     ]
    }
   ],
   "source": [
    "''''''\n",
    "QUESTÃO 6\n",
    "''''''\n",
    "\n",
    "carros = []\n",
    "consumo = []\n",
    "menor = car_eco = 0\n",
    "for i in range(5):\n",
    "    carros.append(input('Digite o modelo do carro: '))\n",
    "    consumo.append(float(input('Digite o consumo por litro:  ')))\n",
    "    if consumo[i] > menor:\n",
    "        menor = consumo[i]\n",
    "        car_eco = carros[i]\n",
    "    print(f'Veículo {i+1} ')\n",
    "    print(f'Nome: {carros[i]} ')\n",
    "    print(f'Km por litro: {consumo[i]} ')\n",
    "print('RELATÓRIO FINAL')\n",
    "for i in range(5):\n",
    "    print(f' {i+1}  - {carros[i]}     - {consumo[i]} - {1000/consumo[i]:.2f} litros - R$ {1000/consumo[i]*2.25:.2f} ')\n",
    "print(f'O menor consumo é o do {car_eco} ')\n",
    "# print(carros)\n",
    "# print(consumo)"
   ]
  }
 ],
 "metadata": {
  "kernelspec": {
   "display_name": "Python 3.10.6 64-bit",
   "language": "python",
   "name": "python3"
  },
  "language_info": {
   "codemirror_mode": {
    "name": "ipython",
    "version": 3
   },
   "file_extension": ".py",
   "mimetype": "text/x-python",
   "name": "python",
   "nbconvert_exporter": "python",
   "pygments_lexer": "ipython3",
   "version": "3.10.6"
  },
  "orig_nbformat": 4,
  "vscode": {
   "interpreter": {
    "hash": "3acdcd3e79daf06dd4b5448aed0a0c5224a85464e4bd04fb84cae601da2afa41"
   }
  }
 },
 "nbformat": 4,
 "nbformat_minor": 2
}
