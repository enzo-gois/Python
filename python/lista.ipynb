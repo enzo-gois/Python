{
 "cells": [
  {
   "cell_type": "code",
   "execution_count": 61,
   "metadata": {},
   "outputs": [
    {
     "name": "stdout",
     "output_type": "stream",
     "text": [
      "5\n"
     ]
    }
   ],
   "source": [
    "'''\n",
    "QUESTÃO 1\n",
    "'''\n",
    "num = int(input(\"digite um numero: \"))\n",
    "print(num)"
   ]
  },
  {
   "cell_type": "code",
   "execution_count": 62,
   "metadata": {},
   "outputs": [
    {
     "name": "stdout",
     "output_type": "stream",
     "text": [
      "11\n"
     ]
    }
   ],
   "source": [
    "'''\n",
    "QUESTÃO 2\n",
    "'''\n",
    "num1 = int(input(\"digite um numero: \"))\n",
    "num2 = int(input(\"digite outro numero: \"))\n",
    "num3 = int(input(\"digite outro numero: \"))\n",
    "soma = (num1 + num2 + num3)\n",
    "print(soma)"
   ]
  },
  {
   "cell_type": "code",
   "execution_count": 17,
   "metadata": {},
   "outputs": [
    {
     "name": "stdout",
     "output_type": "stream",
     "text": [
      "o numero antecessor ao  5 é o  4\n",
      "O numero sucessor ao  5 é o  6\n"
     ]
    }
   ],
   "source": [
    "'''\n",
    "QUESTÃO 3\n",
    "'''\n",
    "num = int(input('Digite um numero: '))\n",
    "antecessor = num - 1\n",
    "sucessor = num + 1\n",
    "print ('o numero antecessor ao ', num, 'é o ', antecessor)\n",
    "print ('O numero sucessor ao ', num, 'é o ', sucessor)"
   ]
  },
  {
   "cell_type": "code",
   "execution_count": 64,
   "metadata": {},
   "outputs": [
    {
     "name": "stdout",
     "output_type": "stream",
     "text": [
      "212.00\n"
     ]
    }
   ],
   "source": [
    "'''\n",
    "QUESTÃO 4\n",
    "'''\n",
    "c = float(input('Digite a temperatura em celsius: '))\n",
    "fahren = c*(9.0/5.0)+32.0\n",
    "print (f'{fahren:.2f}')"
   ]
  },
  {
   "cell_type": "code",
   "execution_count": 11,
   "metadata": {},
   "outputs": [
    {
     "name": "stdout",
     "output_type": "stream",
     "text": [
      "A velocidade 100.0 em metros por segundo é igual a 27.78\n"
     ]
    }
   ],
   "source": [
    "'''\n",
    "QUESTÃO 5\n",
    "'''\n",
    "kmh = float(input('Digite a velocidade em quilometros por hora: '))\n",
    "convert = kmh/3.6\n",
    "print(f'A velocidade {kmh} em metros por segundo é igual a {convert:.2f}')"
   ]
  },
  {
   "cell_type": "code",
   "execution_count": 12,
   "metadata": {},
   "outputs": [
    {
     "name": "stdout",
     "output_type": "stream",
     "text": [
      "5.0\n"
     ]
    }
   ],
   "source": [
    "'''\n",
    "QUESTÃO 6\n",
    "'''\n",
    "n1 = float(input('Primeira nota: '))\n",
    "n2 = float(input('Segunda nota: '))\n",
    "n3 = float(input('Terceira nota: '))\n",
    "n4 = float(input('Quarta nota: '))\n",
    "media_aritmetica = (n1+n2+n3+n4)/4\n",
    "print(media_aritmetica)"
   ]
  },
  {
   "cell_type": "code",
   "execution_count": 16,
   "metadata": {},
   "outputs": [
    {
     "name": "stdout",
     "output_type": "stream",
     "text": [
      "10.34\n"
     ]
    }
   ],
   "source": [
    "'''\n",
    "QUESTÃO 7\n",
    "'''\n",
    "real = float(input('Digite o valor: '))\n",
    "dolar = float(input('Valor do dolar: '))\n",
    "conversao = real*dolar\n",
    "print(conversao)"
   ]
  },
  {
   "cell_type": "code",
   "execution_count": 9,
   "metadata": {},
   "outputs": [
    {
     "name": "stdout",
     "output_type": "stream",
     "text": [
      "78.540\n"
     ]
    }
   ],
   "source": [
    "'''\n",
    "QUESTÃO 8\n",
    "'''\n",
    "raio = float(input('Digite o valor do raio: '))\n",
    "PI = 3.141592\n",
    "area = PI*raio**2\n",
    "print(f'{area:.3f}')"
   ]
  },
  {
   "cell_type": "code",
   "execution_count": 6,
   "metadata": {},
   "outputs": [
    {
     "name": "stdout",
     "output_type": "stream",
     "text": [
      "O primeiro ganhador ganhará R$358.8\n",
      "O segundo ganhador ganhará R$249.6\n",
      "O terceiro ganhador ganhará R$171.6\n"
     ]
    }
   ],
   "source": [
    "'''\n",
    "QUESTÃO 9\n",
    "'''\n",
    "p1 = (780*46/100)\n",
    "p2 = (780*32/100)\n",
    "p3 = (780*22/100)\n",
    "print(f'O primeiro ganhador ganhará R${p1}')\n",
    "print(f'O segundo ganhador ganhará R${p2}')\n",
    "print(f'O terceiro ganhador ganhará R${p3}')"
   ]
  },
  {
   "cell_type": "code",
   "execution_count": 18,
   "metadata": {},
   "outputs": [
    {
     "name": "stdout",
     "output_type": "stream",
     "text": [
      "O numero 16.0 ao quadrado é igual a 256.0 .\n",
      "E sua raiz quadrada é igual a 4.00\n"
     ]
    }
   ],
   "source": [
    "'''\n",
    "QUESTÃO 10\n",
    "'''\n",
    "num = float(input('Digite um numero: '))\n",
    "if num > 0: \n",
    "    print(f'O numero {num} ao quadrado é igual a {num*num} .')\n",
    "    print(f'E sua raiz quadrada é igual a {num**(1/2):.2f}')"
   ]
  },
  {
   "cell_type": "code",
   "execution_count": 21,
   "metadata": {},
   "outputs": [
    {
     "name": "stdout",
     "output_type": "stream",
     "text": [
      "O numero é par e negativo!\n"
     ]
    }
   ],
   "source": [
    "'''\n",
    "QUESTÃO 11\n",
    "'''\n",
    "num = int(input('digite um numero:'))\n",
    "if num % 2 == 0:\n",
    "    if num > 0: \n",
    "        print('O numero, {} , é par e positivo!'. format(num)) \n",
    "    else:\n",
    "        print('O numero é par e negativo!')\n",
    "else:\n",
    "    if num > 0: \n",
    "        print ('O numero é impar e positivo!')\n",
    "    else:\n",
    "        print('O numero é impar e negativo!')\n"
   ]
  },
  {
   "cell_type": "code",
   "execution_count": 1,
   "metadata": {},
   "outputs": [
    {
     "name": "stdout",
     "output_type": "stream",
     "text": [
      "7.5\n"
     ]
    }
   ],
   "source": [
    "'''\n",
    "QUESTÃO 12\n",
    "'''\n",
    "nota1 = float(input('Primeira nota: '))\n",
    "nota2 = float(input('Segunda nota: '))\n",
    "if nota1 >10 or nota1 <0:\n",
    "    print('Nota inválida!!')\n",
    "elif nota2 >10 or nota2 <0:\n",
    "    print('Nota inválida!!')\n",
    "else:\n",
    "    print((nota1+nota2)/2)"
   ]
  },
  {
   "cell_type": "code",
   "execution_count": 12,
   "metadata": {},
   "outputs": [
    {
     "name": "stdout",
     "output_type": "stream",
     "text": [
      "O seu peso ideal é 54.66\n"
     ]
    }
   ],
   "source": [
    "'''\n",
    "QUESTÃO 13\n",
    "'''\n",
    "gen = str(input('Digite se você é do sexo masculino(M) ou do sexo feminino(F): '))\n",
    "alt = float(input('Digite a sua altura: '))\n",
    "ph = (72.7*alt)-58\n",
    "pm = (62.1*alt)-44.7\n",
    "if gen == 'M':\n",
    "    print('O seu pedo ideal é {:.2f}'.format(ph))\n",
    "elif gen == 'F':\n",
    "    print('O seu peso ideal é {:.2f}'.format(pm))\n",
    "else:\n",
    "    print('Não posso calcular a partir desses caracteres!, ', end='')\n",
    "    print('Por favor, escreva M para o sexo masculino, ou F para o sexo feminino!')\n",
    "\n"
   ]
  },
  {
   "cell_type": "code",
   "execution_count": 23,
   "metadata": {},
   "outputs": [
    {
     "name": "stdout",
     "output_type": "stream",
     "text": [
      "Recuperação! \n"
     ]
    }
   ],
   "source": [
    "'''\n",
    "QUESTÃO 14\n",
    "'''\n",
    "nota1 = float(input('Primeira nota: '))\n",
    "nota2 = float(input('Segunda nota: '))\n",
    "nota3 = float(input('Terceira nota: '))\n",
    "media = (nota1*2 + nota2*3 + nota3*5)/10\n",
    "if nota1 >10 or nota1 <0:\n",
    "    print('Nota inválida! ') \n",
    "elif nota2 >10 or nota2 <0:\n",
    "    print('Nota inválida!') \n",
    "elif nota3 >10 or nota3 <0:\n",
    "    print('Notas inválidas!! ')\n",
    "elif 0 < media <2.9:\n",
    "    print('Reprovado!')\n",
    "elif 3 < media <4.9:\n",
    "    print('Recuperação! ')\n",
    "else:\n",
    "    print('Aprovado!!')\n"
   ]
  },
  {
   "cell_type": "code",
   "execution_count": 25,
   "metadata": {},
   "outputs": [
    {
     "name": "stdout",
     "output_type": "stream",
     "text": [
      "CÚMPLICE! \n"
     ]
    }
   ],
   "source": [
    "'''\n",
    "QUESTÃO 15\n",
    "'''\n",
    "p1 = int(input('Telefonou para a vítima? Digite 1 para sim ou 0 para não! '))\n",
    "p2 = int(input('Esteve no local do crime? Digite 1 para sim ou 0 para não! '))\n",
    "p3 = int(input('Mora perto da vítima? Digite 1 para sim ou 0 para não! '))\n",
    "p4 = int(input('Devia para a vítima? Digite 1 para sim ou 0 para não! '))\n",
    "p5 = int(input('Já trabalhou com a vítima? Digite 1 para sim ou 0 para não! '))\n",
    "\n",
    "soma_das_respostas = p1 + p2 + p3 + p4 + p5\n",
    "\n",
    "if soma_das_respostas <2:\n",
    "    print('INOCENTE! ')\n",
    "elif soma_das_respostas == 2:\n",
    "    print('SUSPEITA! ')\n",
    "elif 3<= soma_das_respostas <=4:\n",
    "    print('CÚMPLICE! ')\n",
    "elif soma_das_respostas == 5:\n",
    "    print('ASSASINO! ')\n",
    "\n",
    "\n",
    "\n"
   ]
  },
  {
   "cell_type": "code",
   "execution_count": 29,
   "metadata": {},
   "outputs": [
    {
     "name": "stdout",
     "output_type": "stream",
     "text": [
      "Pode se aposentar! \n"
     ]
    }
   ],
   "source": [
    "'''\n",
    "QUESTÃO 16\n",
    "'''\n",
    "idade = int(input('Digite a idade: '))\n",
    "tempo_de_servico = int(input('Digite o tempo de servico em anos: '))\n",
    "if idade >= 65:\n",
    "    print('Pode se aposentar! ')\n",
    "elif idade <30:\n",
    "    print('Você não tem nem idade para se aposentar')\n",
    "elif tempo_de_servico == 30:\n",
    "    print('Pode se aposentar! ')\n",
    "elif idade >= 60 and tempo_de_servico >= 25:\n",
    "    print('Pode se aposentar! ')\n",
    "else:\n",
    "    print('Não pode se aposentar! ')"
   ]
  },
  {
   "cell_type": "code",
   "execution_count": 32,
   "metadata": {},
   "outputs": [
    {
     "name": "stdout",
     "output_type": "stream",
     "text": [
      "Econômico! \n"
     ]
    }
   ],
   "source": [
    "'''\n",
    "QUESTÃO 17\n",
    "'''\n",
    "km = float(input('Distancia percorrida: '))\n",
    "litro_consumido_no_percurso = float(input('Digite o total de litros consumidos no percurso: '))\n",
    "kml = km/litro_consumido_no_percurso\n",
    "if kml <8:\n",
    "    print('Venda o carro! ')\n",
    "elif kml >= 8 and kml <=12:\n",
    "    print('Econômico! ')\n",
    "elif kml >12:\n",
    "    print('Super econômico! ') "
   ]
  },
  {
   "cell_type": "code",
   "execution_count": 37,
   "metadata": {},
   "outputs": [
    {
     "name": "stdout",
     "output_type": "stream",
     "text": [
      "0\n",
      "1\n",
      "2\n",
      "3\n",
      "4\n",
      "5\n",
      "6\n",
      "7\n",
      "8\n",
      "9\n",
      "10\n",
      "11\n",
      "12\n",
      "13\n",
      "14\n",
      "15\n",
      "16\n",
      "17\n",
      "18\n",
      "19\n",
      "20\n",
      "21\n",
      "22\n",
      "23\n",
      "24\n",
      "25\n",
      "26\n",
      "27\n",
      "28\n",
      "29\n",
      "30\n",
      "31\n",
      "32\n",
      "33\n",
      "34\n",
      "35\n",
      "36\n",
      "37\n",
      "38\n",
      "39\n",
      "40\n",
      "41\n",
      "42\n",
      "43\n",
      "44\n",
      "45\n",
      "46\n",
      "47\n",
      "48\n",
      "49\n",
      "50\n",
      "51\n",
      "52\n",
      "53\n",
      "54\n",
      "55\n",
      "56\n",
      "57\n",
      "58\n",
      "59\n",
      "60\n",
      "61\n",
      "62\n",
      "63\n",
      "64\n",
      "65\n",
      "66\n",
      "67\n",
      "68\n",
      "69\n",
      "70\n",
      "71\n",
      "72\n",
      "73\n",
      "74\n",
      "75\n",
      "76\n",
      "77\n",
      "78\n",
      "79\n",
      "80\n",
      "81\n",
      "82\n",
      "83\n",
      "84\n",
      "85\n",
      "86\n",
      "87\n",
      "88\n",
      "89\n",
      "90\n",
      "91\n",
      "92\n",
      "93\n",
      "94\n",
      "95\n",
      "96\n",
      "97\n",
      "98\n",
      "99\n",
      "100\n"
     ]
    }
   ],
   "source": [
    "'''\n",
    "QUESTÃO 18\n",
    "'''\n",
    "i=0\n",
    "while i<=100:\n",
    "    print(i)\n",
    "    i+=1\n",
    "\n",
    "# for i in range(0,100):\n",
    "#     print(i)"
   ]
  },
  {
   "cell_type": "code",
   "execution_count": 51,
   "metadata": {},
   "outputs": [
    {
     "name": "stdout",
     "output_type": "stream",
     "text": [
      "O somatório de todos os numeros é igual a 22\n"
     ]
    }
   ],
   "source": [
    "'''\n",
    "QUESTÃO 19\n",
    "'''\n",
    "s = 0\n",
    "for i in range (0,10):\n",
    "        n = int(input('Digite um numero: '))\n",
    "        s+=n\n",
    "print('O somatório de todos os numeros é igual a {}'. format(s))\n"
   ]
  },
  {
   "cell_type": "code",
   "execution_count": 14,
   "metadata": {},
   "outputs": [
    {
     "name": "stdout",
     "output_type": "stream",
     "text": [
      "A média desses numeros é igual a 58.1\n"
     ]
    }
   ],
   "source": [
    "'''\n",
    "QUESTÃO 20\n",
    "\n",
    "'''\n",
    "s = 0\n",
    "m = 0\n",
    "for i in range (0,10):\n",
    "    n = int(input('Digite um numero: '))\n",
    "    s +=n\n",
    "    m = s/10\n",
    "print('A média desses numeros é igual a {}'. format(m))"
   ]
  },
  {
   "cell_type": "code",
   "execution_count": 50,
   "metadata": {},
   "outputs": [
    {
     "name": "stdout",
     "output_type": "stream",
     "text": [
      "A media da soma desses numeros é igual a 2.0\n"
     ]
    }
   ],
   "source": [
    "'''\n",
    "QUESTÃO 21\n",
    "'''\n",
    "s = 0\n",
    "for i in range (0,10):\n",
    "    n = int(input('Digite um numero: '))\n",
    "    if n >0:\n",
    "        s+=n\n",
    "print('A media da soma desses numeros é igual a',s/10)\n"
   ]
  },
  {
   "cell_type": "code",
   "execution_count": 14,
   "metadata": {},
   "outputs": [
    {
     "name": "stdout",
     "output_type": "stream",
     "text": [
      "1-> 3-> 5-> 7-> 9-> "
     ]
    }
   ],
   "source": [
    "'''\n",
    "QUESTÃO 22\n",
    "'''\n",
    "n = int(input('Digite um numero: '))\n",
    "n1 = 1 + (n-1)*2\n",
    "for i in range(1,n1+2,2):    \n",
    "    print('{}'.format(i),end='-> ')\n",
    "    \n",
    "# n = int(input('Digite um numero: '))\n",
    "# a = 1\n",
    "# cont = 1\n",
    "# while cont <= n:\n",
    "#     print('{}'.format(cont), end='-')\n",
    "#     a += 2\n",
    "#     cont += 1\n",
    "\n"
   ]
  },
  {
   "cell_type": "code",
   "execution_count": 1,
   "metadata": {},
   "outputs": [
    {
     "name": "stdout",
     "output_type": "stream",
     "text": [
      "1\n",
      "2\n",
      "3\n",
      "4\n",
      "5\n"
     ]
    }
   ],
   "source": [
    "'''\n",
    "QUESTÃO 23\n",
    "'''\n",
    "n = int(input('Digite um numero: '))\n",
    "for i in range(1,n+1):\n",
    "    print(i)"
   ]
  },
  {
   "cell_type": "code",
   "execution_count": 2,
   "metadata": {},
   "outputs": [
    {
     "name": "stdout",
     "output_type": "stream",
     "text": [
      "10\n",
      "9\n",
      "8\n",
      "7\n",
      "6\n",
      "5\n",
      "4\n",
      "3\n",
      "2\n",
      "1\n"
     ]
    }
   ],
   "source": [
    "'''\n",
    "QUESTÃO 24\n",
    "'''\n",
    "n = int(input('Digite um numero: '))\n",
    "for i in range(n,0,-1):\n",
    "    print(i)"
   ]
  },
  {
   "cell_type": "code",
   "execution_count": 57,
   "metadata": {},
   "outputs": [
    {
     "name": "stdout",
     "output_type": "stream",
     "text": [
      "A soma do numeros pares no intervalo de 1 e 10 é igual a 30\n",
      "A multiplicação dos numeros impares no intervalo de 1 e 10 é igual a 945\n"
     ]
    }
   ],
   "source": [
    "'''\n",
    "QUESTÃO 25\n",
    "'''\n",
    "num1 = int(input('Digite o primeiro numero: '))\n",
    "num2 = int(input('Digite o segundo numero: '))\n",
    "s = 0\n",
    "c = 1\n",
    "for i in range(num1, num2+1):\n",
    "    if i %2 ==0:\n",
    "        s+=i\n",
    "    if i %2 ==1:\n",
    "        c*=i\n",
    "print('A soma do numeros pares no intervalo de {} a {} é igual a {}'.format(num1,num2,s))\n",
    "print('A multiplicação dos numeros impares no intervalo de {} a {} é igual a {}'.format(num1,num2,c))\n",
    "\n"
   ]
  },
  {
   "cell_type": "code",
   "execution_count": 13,
   "metadata": {},
   "outputs": [
    {
     "name": "stdout",
     "output_type": "stream",
     "text": [
      "1 x 1 = 1\n",
      "1 x 2 = 2\n",
      "1 x 3 = 3\n",
      "1 x 4 = 4\n",
      "1 x 5 = 5\n",
      "1 x 6 = 6\n",
      "1 x 7 = 7\n",
      "1 x 8 = 8\n",
      "1 x 9 = 9\n",
      "1 x 10 = 10\n",
      "2 x 1 = 2\n",
      "2 x 2 = 4\n",
      "2 x 3 = 6\n",
      "2 x 4 = 8\n",
      "2 x 5 = 10\n",
      "2 x 6 = 12\n",
      "2 x 7 = 14\n",
      "2 x 8 = 16\n",
      "2 x 9 = 18\n",
      "2 x 10 = 20\n",
      "3 x 1 = 3\n",
      "3 x 2 = 6\n",
      "3 x 3 = 9\n",
      "3 x 4 = 12\n",
      "3 x 5 = 15\n",
      "3 x 6 = 18\n",
      "3 x 7 = 21\n",
      "3 x 8 = 24\n",
      "3 x 9 = 27\n",
      "3 x 10 = 30\n",
      "4 x 1 = 4\n",
      "4 x 2 = 8\n",
      "4 x 3 = 12\n",
      "4 x 4 = 16\n",
      "4 x 5 = 20\n",
      "4 x 6 = 24\n",
      "4 x 7 = 28\n",
      "4 x 8 = 32\n",
      "4 x 9 = 36\n",
      "4 x 10 = 40\n",
      "5 x 1 = 5\n",
      "5 x 2 = 10\n",
      "5 x 3 = 15\n",
      "5 x 4 = 20\n",
      "5 x 5 = 25\n",
      "5 x 6 = 30\n",
      "5 x 7 = 35\n",
      "5 x 8 = 40\n",
      "5 x 9 = 45\n",
      "5 x 10 = 50\n",
      "6 x 1 = 6\n",
      "6 x 2 = 12\n",
      "6 x 3 = 18\n",
      "6 x 4 = 24\n",
      "6 x 5 = 30\n",
      "6 x 6 = 36\n",
      "6 x 7 = 42\n",
      "6 x 8 = 48\n",
      "6 x 9 = 54\n",
      "6 x 10 = 60\n",
      "7 x 1 = 7\n",
      "7 x 2 = 14\n",
      "7 x 3 = 21\n",
      "7 x 4 = 28\n",
      "7 x 5 = 35\n",
      "7 x 6 = 42\n",
      "7 x 7 = 49\n",
      "7 x 8 = 56\n",
      "7 x 9 = 63\n",
      "7 x 10 = 70\n",
      "8 x 1 = 8\n",
      "8 x 2 = 16\n",
      "8 x 3 = 24\n",
      "8 x 4 = 32\n",
      "8 x 5 = 40\n",
      "8 x 6 = 48\n",
      "8 x 7 = 56\n",
      "8 x 8 = 64\n",
      "8 x 9 = 72\n",
      "8 x 10 = 80\n",
      "9 x 1 = 9\n",
      "9 x 2 = 18\n",
      "9 x 3 = 27\n",
      "9 x 4 = 36\n",
      "9 x 5 = 45\n",
      "9 x 6 = 54\n",
      "9 x 7 = 63\n",
      "9 x 8 = 72\n",
      "9 x 9 = 81\n",
      "9 x 10 = 90\n",
      "10 x 1 = 10\n",
      "10 x 2 = 20\n",
      "10 x 3 = 30\n",
      "10 x 4 = 40\n",
      "10 x 5 = 50\n",
      "10 x 6 = 60\n",
      "10 x 7 = 70\n",
      "10 x 8 = 80\n",
      "10 x 9 = 90\n",
      "10 x 10 = 100\n"
     ]
    }
   ],
   "source": [
    "'''\n",
    "QUESTÃO 26\n",
    "'''\n",
    "for i in range(1,11):\n",
    "    for c in range(1,11):\n",
    "        print('{} x {} = {}'.format(i,c,i*c))"
   ]
  },
  {
   "cell_type": "code",
   "execution_count": 2,
   "metadata": {},
   "outputs": [
    {
     "name": "stdout",
     "output_type": "stream",
     "text": [
      "1 \n",
      "2 3 \n",
      "4 5 6 \n",
      "7 8 9 10 \n",
      "11 12 13 14 15 \n"
     ]
    }
   ],
   "source": [
    "'''\n",
    "QUESTÃO 27\n",
    "'''\n",
    "n = int(input('Digite um numero: '))\n",
    "s = 1\n",
    "for i in range(1,n+1):\n",
    "    for c in range(1,i+1):\n",
    "        print(s, end=' ')\n",
    "        s+=1\n",
    "    print()\n",
    "    \n",
    "    \n",
    "\n"
   ]
  }
 ],
 "metadata": {
  "kernelspec": {
   "display_name": "Python 3.10.6 64-bit",
   "language": "python",
   "name": "python3"
  },
  "language_info": {
   "codemirror_mode": {
    "name": "ipython",
    "version": 3
   },
   "file_extension": ".py",
   "mimetype": "text/x-python",
   "name": "python",
   "nbconvert_exporter": "python",
   "pygments_lexer": "ipython3",
   "version": "3.10.6"
  },
  "orig_nbformat": 4,
  "vscode": {
   "interpreter": {
    "hash": "3acdcd3e79daf06dd4b5448aed0a0c5224a85464e4bd04fb84cae601da2afa41"
   }
  }
 },
 "nbformat": 4,
 "nbformat_minor": 2
}
